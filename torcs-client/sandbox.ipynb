{
 "cells": [
  {
   "cell_type": "code",
   "execution_count": 48,
   "metadata": {},
   "outputs": [
    {
     "ename": "SyntaxError",
     "evalue": "invalid syntax (<ipython-input-48-5fc6c5dfa6c0>, line 15)",
     "output_type": "error",
     "traceback": [
      "\u001b[0;36m  File \u001b[0;32m\"<ipython-input-48-5fc6c5dfa6c0>\"\u001b[0;36m, line \u001b[0;32m15\u001b[0m\n\u001b[0;31m    vec0[i] = vec1[i] if thing == None for i, thing in enumerate(vec0)\u001b[0m\n\u001b[0m                                         ^\u001b[0m\n\u001b[0;31mSyntaxError\u001b[0m\u001b[0;31m:\u001b[0m invalid syntax\n"
     ]
    }
   ],
   "source": [
    "import numpy as np\n",
    "import numpy.ma as ma\n",
    "\n",
    "vec0 = [.1, .2, None, .3]\n",
    "\n",
    "vec1 = [.2, .2, .5, .2]\n",
    "\n",
    "print(vec0)\n",
    "print(vec1)\n",
    "\n",
    "for i, thing in enumerate(vec0): # try this in list comprehension, it will be 1 line instead of 3\n",
    "    if thing == None:\n",
    "        vec0[i] = vec1[i]\n",
    "\n",
    "#vec0[i] = vec1[i] if thing == None for i, thing in enumerate(vec0)\n",
    "\n",
    "print(vec0)"
   ]
  }
 ],
 "metadata": {
  "kernelspec": {
   "display_name": "Python 3",
   "language": "python",
   "name": "python3"
  },
  "language_info": {
   "codemirror_mode": {
    "name": "ipython",
    "version": 3
   },
   "file_extension": ".py",
   "mimetype": "text/x-python",
   "name": "python",
   "nbconvert_exporter": "python",
   "pygments_lexer": "ipython3",
   "version": "3.6.3"
  }
 },
 "nbformat": 4,
 "nbformat_minor": 2
}
